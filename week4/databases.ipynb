{
 "cells": [
  {
   "cell_type": "markdown",
   "metadata": {},
   "source": [
    "11.1 Create a file called zoo.py. In it, define a function called hours() that prints the string 'Open 9-5 daily'. Then, use the interactive interpreter to import the zoo module and call its hours() function.\n",
    "\n",
    "11.2 In the interactive interpreter, import the zoo module as menagerie and call its hours() function.\n",
    "\n",
    "16.4 Use the sqlite3 module to create a SQLite database called books.db and a table called books with these fields: title (text), author (text), and year (integer). Please insert atleast 2 books into the books table!\n",
    "\n",
    "16.8 Use the sqlalchemy module to connect to the sqlite3 database books.db that you just made in exercise 16.4. Select and print the title column from the book table in alphabetical order."
   ]
  },
  {
   "cell_type": "code",
   "execution_count": 1,
   "metadata": {},
   "outputs": [
    {
     "name": "stdout",
     "output_type": "stream",
     "text": [
      "Open 9-5 daily!\n"
     ]
    }
   ],
   "source": [
    "import zoo\n",
    "zoo.hours()"
   ]
  },
  {
   "cell_type": "code",
   "execution_count": 1,
   "metadata": {},
   "outputs": [
    {
     "name": "stdout",
     "output_type": "stream",
     "text": [
      "[('Sunrise on the Reaping', 'Suzanne Collins', 2025), ('The Midnight Library', 'Matt Haig', 2020)]\n"
     ]
    },
    {
     "data": {
      "text/plain": [
       "<function Connection.close()>"
      ]
     },
     "execution_count": 1,
     "metadata": {},
     "output_type": "execute_result"
    }
   ],
   "source": [
    "import sqlite3\n",
    "import sqlalchemy\n",
    "\n",
    "conn = sqlite3.connect('books.db')\n",
    "curs = conn.cursor()\n",
    "curs.execute('''CREATE TABLE books(\n",
    "    title TEXT PRIMARY KEY,\n",
    "    author TEXT,\n",
    "    year INTEGER\n",
    ");''')\n",
    "addBook = 'INSERT INTO books (title, author, year) VALUES(?, ?, ?);'\n",
    "\n",
    "curs.execute(addBook, ('Sunrise on the Reaping', 'Suzanne Collins', 2025))\n",
    "curs.execute(addBook, ('The Midnight Library', 'Matt Haig', 2020))\n",
    "\n",
    "conn.commit()\n",
    "\n",
    "curs.execute('SELECT * FROM books;')\n",
    "rows = curs.fetchall()\n",
    "print(rows)\n",
    "\n",
    "conn.close"
   ]
  },
  {
   "cell_type": "code",
   "execution_count": 3,
   "metadata": {},
   "outputs": [
    {
     "name": "stdout",
     "output_type": "stream",
     "text": [
      "[<Books(Sunrise on the Reaping, Suzanne Collins, 2025)>, <Books(The Midnight Library, Matt Haig, 2020)>]\n"
     ]
    }
   ],
   "source": [
    "import sqlalchemy\n",
    "import sqlalchemy.orm\n",
    "\n",
    "eng = sqlalchemy.create_engine('sqlite:///books.db')\n",
    "\n",
    "Base = sqlalchemy.orm.declarative_base()\n",
    "Session = sqlalchemy.orm.sessionmaker(bind=eng)\n",
    "session = Session()\n",
    "\n",
    "class Books(Base):\n",
    "    __tablename__ = 'books'\n",
    "    title = sqlalchemy.Column('title', sqlalchemy.Text, primary_key=True)\n",
    "    author = sqlalchemy.Column('author', sqlalchemy.Text)\n",
    "    year = sqlalchemy.Column('year', sqlalchemy.Integer)\n",
    "    def __init__(self, title, author, year):\n",
    "        self.title = title\n",
    "        self.author = author\n",
    "        self.year = year\n",
    "\n",
    "    def __repr__(self):\n",
    "        return \"<Books({}, {}, {})>\".format(self.title, self.author, self.year)\n",
    "\n",
    "query = session.query(Books)\n",
    "result = query.all()\n",
    "print(result)"
   ]
  }
 ],
 "metadata": {
  "kernelspec": {
   "display_name": "Python 3",
   "language": "python",
   "name": "python3"
  },
  "language_info": {
   "codemirror_mode": {
    "name": "ipython",
    "version": 3
   },
   "file_extension": ".py",
   "mimetype": "text/x-python",
   "name": "python",
   "nbconvert_exporter": "python",
   "pygments_lexer": "ipython3",
   "version": "3.11.9"
  }
 },
 "nbformat": 4,
 "nbformat_minor": 2
}
