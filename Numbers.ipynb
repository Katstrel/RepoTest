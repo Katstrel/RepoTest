{
 "cells": [
  {
   "cell_type": "code",
   "execution_count": 18,
   "id": "ecf8c23e-f525-4957-82a8-ef600b58c507",
   "metadata": {},
   "outputs": [
    {
     "name": "stdout",
     "output_type": "stream",
     "text": [
      "3600\n"
     ]
    }
   ],
   "source": [
    "seconds_per_hour = 60 * 60\n",
    "print(seconds_per_hour)"
   ]
  },
  {
   "cell_type": "code",
   "execution_count": 16,
   "id": "cead52a5-5e3e-4c75-84a2-14788e82c6a0",
   "metadata": {},
   "outputs": [
    {
     "name": "stdout",
     "output_type": "stream",
     "text": [
      "86400\n"
     ]
    }
   ],
   "source": [
    "seconds_per_day = seconds_per_hour * 24\n",
    "print(seconds_per_day)"
   ]
  },
  {
   "cell_type": "code",
   "execution_count": 20,
   "id": "f102ce97-a512-465c-81fd-5e1b048d678b",
   "metadata": {},
   "outputs": [
    {
     "name": "stdout",
     "output_type": "stream",
     "text": [
      "24.0\n"
     ]
    }
   ],
   "source": [
    "print(seconds_per_day / seconds_per_hour)"
   ]
  },
  {
   "cell_type": "code",
   "execution_count": 22,
   "id": "7327bb1f-399e-4d2c-80c2-836d275c47f9",
   "metadata": {},
   "outputs": [
    {
     "name": "stdout",
     "output_type": "stream",
     "text": [
      "24\n"
     ]
    }
   ],
   "source": [
    "print(seconds_per_day // seconds_per_hour)"
   ]
  },
  {
   "cell_type": "markdown",
   "id": "009bcacd-7e31-4e26-b3b6-b6814e06fe78",
   "metadata": {},
   "source": [
    "Did this number agree with the floating-point value from the previous question, aside from the final .0?\n",
    "\n",
    "Yes. Floating point allows for decimal places but since the answer was a whole number, floating point wasn't necessary. Integer division would have rounded the floating point value if the decimal place had been used."
   ]
  }
 ],
 "metadata": {
  "kernelspec": {
   "display_name": "anaconda-ai-2024.04-py310",
   "language": "python",
   "name": "conda-env-anaconda-ai-2024.04-py310-py"
  },
  "language_info": {
   "codemirror_mode": {
    "name": "ipython",
    "version": 3
   },
   "file_extension": ".py",
   "mimetype": "text/x-python",
   "name": "python",
   "nbconvert_exporter": "python",
   "pygments_lexer": "ipython3",
   "version": "3.10.13"
  }
 },
 "nbformat": 4,
 "nbformat_minor": 5
}
