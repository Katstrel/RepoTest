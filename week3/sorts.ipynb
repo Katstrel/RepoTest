{
 "cells": [
  {
   "cell_type": "markdown",
   "metadata": {},
   "source": [
    "Sort without .sort\n",
    "Binary Sort"
   ]
  },
  {
   "cell_type": "code",
   "execution_count": 1,
   "metadata": {},
   "outputs": [
    {
     "name": "stdout",
     "output_type": "stream",
     "text": [
      "[0, 0, 0, 1, 1, 1, 2, 2, 2]\n"
     ]
    }
   ],
   "source": [
    "def sortArray(inputArray):\n",
    "    array = []\n",
    "    for i in range(len(inputArray)):\n",
    "        array.append(min(inputArray))\n",
    "        inputArray.remove(min(inputArray))\n",
    "    return array\n",
    "\n",
    "testArray = [0, 0, 1, 2, 1, 0, 1, 2, 2]\n",
    "print(sortArray(testArray))"
   ]
  },
  {
   "cell_type": "code",
   "execution_count": 23,
   "metadata": {},
   "outputs": [
    {
     "name": "stdout",
     "output_type": "stream",
     "text": [
      "Index: 2\n"
     ]
    }
   ],
   "source": [
    "class Funcs:\n",
    "    def binarySearch(array, target):\n",
    "        lower = 0\n",
    "        upper = len(array)\n",
    "        while lower < upper:\n",
    "            x = lower + (upper - lower) // 2\n",
    "            val = array[x]\n",
    "            if target == val:\n",
    "                return x\n",
    "            elif target > val:\n",
    "                if lower == x:\n",
    "                    break\n",
    "                lower = x\n",
    "            elif target < val:\n",
    "                upper = x\n",
    "\n",
    "testArray = [1, 2, 3, 4, 5]\n",
    "print(f\"Index: {Funcs.binarySearch(testArray, 3)}\")"
   ]
  }
 ],
 "metadata": {
  "kernelspec": {
   "display_name": "Python 3",
   "language": "python",
   "name": "python3"
  },
  "language_info": {
   "codemirror_mode": {
    "name": "ipython",
    "version": 3
   },
   "file_extension": ".py",
   "mimetype": "text/x-python",
   "name": "python",
   "nbconvert_exporter": "python",
   "pygments_lexer": "ipython3",
   "version": "3.12.3"
  }
 },
 "nbformat": 4,
 "nbformat_minor": 2
}
