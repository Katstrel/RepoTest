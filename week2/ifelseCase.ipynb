{
 "cells": [
  {
   "cell_type": "code",
   "execution_count": 11,
   "metadata": {},
   "outputs": [
    {
     "name": "stdout",
     "output_type": "stream",
     "text": [
      "Uno One made the Dean's List.\n",
      "Dos Two did not make any list.\n",
      "Tres Three made the Dean's List.\n",
      "Cuatro Four made the Dean's List.\n",
      "Cinco Five made the Honor Roll.\n",
      "Operation Cancelled.\n"
     ]
    }
   ],
   "source": [
    "# Rebecca\n",
    "# ifelseCase.ipynb\n",
    "# Accept student names and GPAs and test if the student qualifies for either the Dean's List or the Honor Roll. \n",
    "\n",
    "nameLast = input('Student\\'s Last Name: \\n')\n",
    "while nameLast != 'ZZZ':\n",
    "    nameFirst = input('Student\\'s First Name: \\n')\n",
    "    gpa = float(input('Student\\'s GPA: \\n'))\n",
    "    if gpa > 3.5:\n",
    "        print(nameFirst, nameLast, 'made the Dean\\'s List.')\n",
    "        nameLast = input('Student\\'s Last Name: \\n')\n",
    "    elif gpa > 3.25:\n",
    "        print(nameFirst, nameLast, 'made the Honor Roll.')\n",
    "        nameLast = input('Student\\'s Last Name: \\n')\n",
    "    else:\n",
    "        print(nameFirst, nameLast, 'did not make any list.')\n",
    "        nameLast = input('Student\\'s Last Name: \\n')\n",
    "else:\n",
    "    print('Operation Cancelled.')\n"
   ]
  }
 ],
 "metadata": {
  "kernelspec": {
   "display_name": "Python 3",
   "language": "python",
   "name": "python3"
  },
  "language_info": {
   "codemirror_mode": {
    "name": "ipython",
    "version": 3
   },
   "file_extension": ".py",
   "mimetype": "text/x-python",
   "name": "python",
   "nbconvert_exporter": "python",
   "pygments_lexer": "ipython3",
   "version": "3.11.9"
  }
 },
 "nbformat": 4,
 "nbformat_minor": 2
}
