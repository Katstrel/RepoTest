{
 "cells": [
  {
   "cell_type": "markdown",
   "metadata": {},
   "source": [
    "4.1, 4.2, 6.1, 6.2, 6.3"
   ]
  },
  {
   "cell_type": "code",
   "execution_count": null,
   "metadata": {},
   "outputs": [],
   "source": [
    "secret = 7\n",
    "guess = 5\n",
    "if guess > secret:\n",
    "    print('Too High!')\n",
    "elif guess < secret:\n",
    "    print('Too Low!')\n",
    "else:\n",
    "    print('Just Right!')"
   ]
  },
  {
   "cell_type": "code",
   "execution_count": null,
   "metadata": {},
   "outputs": [],
   "source": [
    "small = True\n",
    "green = True\n",
    "if small:\n",
    "    if green:\n",
    "        print('Pea') # small, green\n",
    "    else:\n",
    "        print('Cherry') # small, !green\n",
    "else:\n",
    "    if green:\n",
    "        print('Watermelon') # !small, green\n",
    "    else:\n",
    "        print('Pumpkin') # !small, !green"
   ]
  },
  {
   "cell_type": "code",
   "execution_count": null,
   "metadata": {},
   "outputs": [],
   "source": [
    "x = [3, 2, 1, 0]\n",
    "for num in x:\n",
    "    print(num)"
   ]
  },
  {
   "cell_type": "code",
   "execution_count": null,
   "metadata": {},
   "outputs": [],
   "source": [
    "guess_me = 7\n",
    "number = 1\n",
    "while number != guess_me:\n",
    "    if number > guess_me:\n",
    "        # print('Too High!', number)\n",
    "        # number -= 1\n",
    "        print('Oops, too high. Exiting loop...')\n",
    "        break\n",
    "    else:\n",
    "        print('Too Low!', number)\n",
    "        number += 1\n",
    "else:\n",
    "    print('Found it! It was', number)"
   ]
  },
  {
   "cell_type": "code",
   "execution_count": null,
   "metadata": {},
   "outputs": [],
   "source": [
    "guess_me = 5\n",
    "for number in range(10):\n",
    "    if number > guess_me:\n",
    "        print('Oops, too high. Exiting loop...')\n",
    "        break\n",
    "    elif number < guess_me:\n",
    "        print('Too Low!', number)\n",
    "    else:\n",
    "        print('Found it! It was', number)\n",
    "        break"
   ]
  }
 ],
 "metadata": {
  "kernelspec": {
   "display_name": "Python 3",
   "language": "python",
   "name": "python3"
  },
  "language_info": {
   "codemirror_mode": {
    "name": "ipython",
    "version": 3
   },
   "file_extension": ".py",
   "mimetype": "text/x-python",
   "name": "python",
   "nbconvert_exporter": "python",
   "pygments_lexer": "ipython3",
   "version": "3.11.9"
  }
 },
 "nbformat": 4,
 "nbformat_minor": 2
}
